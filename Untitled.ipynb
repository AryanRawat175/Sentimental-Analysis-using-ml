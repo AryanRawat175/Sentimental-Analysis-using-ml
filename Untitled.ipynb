{
 "cells": [
  {
   "cell_type": "code",
   "execution_count": 26,
   "id": "fd80b9fe",
   "metadata": {},
   "outputs": [],
   "source": [
    "import tweepy\n",
    "from textblob import TextBlob\n",
    "import pandas as pd\n",
    "import re\n",
    "import matplotlib.pyplot as plt"
   ]
  },
  {
   "cell_type": "code",
   "execution_count": 27,
   "id": "f259b39a",
   "metadata": {},
   "outputs": [],
   "source": [
    "consumerKey= \"fivMCHxxczMRzqUMGTr21Uvba\"\n",
    "consumerSecret= \"BW1LIA9t91PORlxlx8JBFmcxuXl2BVUyYLucJxNci5n6mCDGYQ\"\n",
    "accessToken= \"939515443794010112-dwHylqLFRMqYTqJiLCHFVPxEWVctp4a\"\n",
    "accessTokenSecret= \"68BcY1qsvge90pkHNtNWuogRYVSuHaLBEGKrMHFtVtkl8\""
   ]
  },
  {
   "cell_type": "code",
   "execution_count": 28,
   "id": "356a7b61",
   "metadata": {},
   "outputs": [],
   "source": [
    "authenticate = tweepy.OAuthHandler(consumerKey , consumerSecret)\n",
    "authenticate.set_access_token(accessToken, accessTokenSecret)\n",
    "api=tweepy.API(authenticate, wait_on_rate_limit = True)"
   ]
  },
  {
   "cell_type": "code",
   "execution_count": null,
   "id": "146edc96",
   "metadata": {},
   "outputs": [],
   "source": [
    "name=input(\"enter twitter username of any user you want without @ : \")"
   ]
  },
  {
   "cell_type": "code",
   "execution_count": 30,
   "id": "d4238656",
   "metadata": {},
   "outputs": [
    {
     "ename": "Unauthorized",
     "evalue": "401 Unauthorized",
     "output_type": "error",
     "traceback": [
      "\u001b[1;31m---------------------------------------------------------------------------\u001b[0m",
      "\u001b[1;31mUnauthorized\u001b[0m                              Traceback (most recent call last)",
      "\u001b[1;32m<ipython-input-30-2d7777915db2>\u001b[0m in \u001b[0;36m<module>\u001b[1;34m\u001b[0m\n\u001b[1;32m----> 1\u001b[1;33m \u001b[0mposts\u001b[0m \u001b[1;33m=\u001b[0m \u001b[0mapi\u001b[0m\u001b[1;33m.\u001b[0m\u001b[0muser_timeline\u001b[0m\u001b[1;33m(\u001b[0m\u001b[0mscreen_name\u001b[0m\u001b[1;33m=\u001b[0m\u001b[0mname\u001b[0m\u001b[1;33m,\u001b[0m \u001b[0mcount\u001b[0m\u001b[1;33m=\u001b[0m \u001b[1;36m100\u001b[0m\u001b[1;33m,\u001b[0m \u001b[0mtweet_mode\u001b[0m\u001b[1;33m=\u001b[0m\u001b[1;34m\"extended\"\u001b[0m\u001b[1;33m)\u001b[0m\u001b[1;33m\u001b[0m\u001b[1;33m\u001b[0m\u001b[0m\n\u001b[0m",
      "\u001b[1;32m~\\AppData\\Roaming\\Python\\Python38\\site-packages\\tweepy\\api.py\u001b[0m in \u001b[0;36mwrapper\u001b[1;34m(*args, **kwargs)\u001b[0m\n\u001b[0;32m     31\u001b[0m         \u001b[1;33m@\u001b[0m\u001b[0mfunctools\u001b[0m\u001b[1;33m.\u001b[0m\u001b[0mwraps\u001b[0m\u001b[1;33m(\u001b[0m\u001b[0mmethod\u001b[0m\u001b[1;33m)\u001b[0m\u001b[1;33m\u001b[0m\u001b[1;33m\u001b[0m\u001b[0m\n\u001b[0;32m     32\u001b[0m         \u001b[1;32mdef\u001b[0m \u001b[0mwrapper\u001b[0m\u001b[1;33m(\u001b[0m\u001b[1;33m*\u001b[0m\u001b[0margs\u001b[0m\u001b[1;33m,\u001b[0m \u001b[1;33m**\u001b[0m\u001b[0mkwargs\u001b[0m\u001b[1;33m)\u001b[0m\u001b[1;33m:\u001b[0m\u001b[1;33m\u001b[0m\u001b[1;33m\u001b[0m\u001b[0m\n\u001b[1;32m---> 33\u001b[1;33m             \u001b[1;32mreturn\u001b[0m \u001b[0mmethod\u001b[0m\u001b[1;33m(\u001b[0m\u001b[1;33m*\u001b[0m\u001b[0margs\u001b[0m\u001b[1;33m,\u001b[0m \u001b[1;33m**\u001b[0m\u001b[0mkwargs\u001b[0m\u001b[1;33m)\u001b[0m\u001b[1;33m\u001b[0m\u001b[1;33m\u001b[0m\u001b[0m\n\u001b[0m\u001b[0;32m     34\u001b[0m         \u001b[0mwrapper\u001b[0m\u001b[1;33m.\u001b[0m\u001b[0mpagination_mode\u001b[0m \u001b[1;33m=\u001b[0m \u001b[0mmode\u001b[0m\u001b[1;33m\u001b[0m\u001b[1;33m\u001b[0m\u001b[0m\n\u001b[0;32m     35\u001b[0m         \u001b[1;32mreturn\u001b[0m \u001b[0mwrapper\u001b[0m\u001b[1;33m\u001b[0m\u001b[1;33m\u001b[0m\u001b[0m\n",
      "\u001b[1;32m~\\AppData\\Roaming\\Python\\Python38\\site-packages\\tweepy\\api.py\u001b[0m in \u001b[0;36mwrapper\u001b[1;34m(*args, **kwargs)\u001b[0m\n\u001b[0;32m     44\u001b[0m             \u001b[0mkwargs\u001b[0m\u001b[1;33m[\u001b[0m\u001b[1;34m'payload_list'\u001b[0m\u001b[1;33m]\u001b[0m \u001b[1;33m=\u001b[0m \u001b[0mpayload_list\u001b[0m\u001b[1;33m\u001b[0m\u001b[1;33m\u001b[0m\u001b[0m\n\u001b[0;32m     45\u001b[0m             \u001b[0mkwargs\u001b[0m\u001b[1;33m[\u001b[0m\u001b[1;34m'payload_type'\u001b[0m\u001b[1;33m]\u001b[0m \u001b[1;33m=\u001b[0m \u001b[0mpayload_type\u001b[0m\u001b[1;33m\u001b[0m\u001b[1;33m\u001b[0m\u001b[0m\n\u001b[1;32m---> 46\u001b[1;33m             \u001b[1;32mreturn\u001b[0m \u001b[0mmethod\u001b[0m\u001b[1;33m(\u001b[0m\u001b[1;33m*\u001b[0m\u001b[0margs\u001b[0m\u001b[1;33m,\u001b[0m \u001b[1;33m**\u001b[0m\u001b[0mkwargs\u001b[0m\u001b[1;33m)\u001b[0m\u001b[1;33m\u001b[0m\u001b[1;33m\u001b[0m\u001b[0m\n\u001b[0m\u001b[0;32m     47\u001b[0m         \u001b[0mwrapper\u001b[0m\u001b[1;33m.\u001b[0m\u001b[0mpayload_list\u001b[0m \u001b[1;33m=\u001b[0m \u001b[0mpayload_list\u001b[0m\u001b[1;33m\u001b[0m\u001b[1;33m\u001b[0m\u001b[0m\n\u001b[0;32m     48\u001b[0m         \u001b[0mwrapper\u001b[0m\u001b[1;33m.\u001b[0m\u001b[0mpayload_type\u001b[0m \u001b[1;33m=\u001b[0m \u001b[0mpayload_type\u001b[0m\u001b[1;33m\u001b[0m\u001b[1;33m\u001b[0m\u001b[0m\n",
      "\u001b[1;32m~\\AppData\\Roaming\\Python\\Python38\\site-packages\\tweepy\\api.py\u001b[0m in \u001b[0;36muser_timeline\u001b[1;34m(self, **kwargs)\u001b[0m\n\u001b[0;32m    569\u001b[0m         \u001b[0mhttps\u001b[0m\u001b[1;33m:\u001b[0m\u001b[1;33m//\u001b[0m\u001b[0mdeveloper\u001b[0m\u001b[1;33m.\u001b[0m\u001b[0mtwitter\u001b[0m\u001b[1;33m.\u001b[0m\u001b[0mcom\u001b[0m\u001b[1;33m/\u001b[0m\u001b[0men\u001b[0m\u001b[1;33m/\u001b[0m\u001b[0mdocs\u001b[0m\u001b[1;33m/\u001b[0m\u001b[0mtwitter\u001b[0m\u001b[1;33m-\u001b[0m\u001b[0mapi\u001b[0m\u001b[1;33m/\u001b[0m\u001b[0mv1\u001b[0m\u001b[1;33m/\u001b[0m\u001b[0mtweets\u001b[0m\u001b[1;33m/\u001b[0m\u001b[0mtimelines\u001b[0m\u001b[1;33m/\u001b[0m\u001b[0mapi\u001b[0m\u001b[1;33m-\u001b[0m\u001b[0mreference\u001b[0m\u001b[1;33m/\u001b[0m\u001b[0mget\u001b[0m\u001b[1;33m-\u001b[0m\u001b[0mstatuses\u001b[0m\u001b[1;33m-\u001b[0m\u001b[0muser_timeline\u001b[0m\u001b[1;33m\u001b[0m\u001b[1;33m\u001b[0m\u001b[0m\n\u001b[0;32m    570\u001b[0m         \"\"\"\n\u001b[1;32m--> 571\u001b[1;33m         return self.request(\n\u001b[0m\u001b[0;32m    572\u001b[0m             'GET', 'statuses/user_timeline', endpoint_parameters=(\n\u001b[0;32m    573\u001b[0m                 \u001b[1;34m'user_id'\u001b[0m\u001b[1;33m,\u001b[0m \u001b[1;34m'screen_name'\u001b[0m\u001b[1;33m,\u001b[0m \u001b[1;34m'since_id'\u001b[0m\u001b[1;33m,\u001b[0m \u001b[1;34m'count'\u001b[0m\u001b[1;33m,\u001b[0m \u001b[1;34m'max_id'\u001b[0m\u001b[1;33m,\u001b[0m\u001b[1;33m\u001b[0m\u001b[1;33m\u001b[0m\u001b[0m\n",
      "\u001b[1;32m~\\AppData\\Roaming\\Python\\Python38\\site-packages\\tweepy\\api.py\u001b[0m in \u001b[0;36mrequest\u001b[1;34m(self, method, endpoint, endpoint_parameters, params, headers, json_payload, parser, payload_list, payload_type, post_data, files, require_auth, return_cursors, upload_api, use_cache, **kwargs)\u001b[0m\n\u001b[0;32m    255\u001b[0m                 \u001b[1;32mraise\u001b[0m \u001b[0mBadRequest\u001b[0m\u001b[1;33m(\u001b[0m\u001b[0mresp\u001b[0m\u001b[1;33m)\u001b[0m\u001b[1;33m\u001b[0m\u001b[1;33m\u001b[0m\u001b[0m\n\u001b[0;32m    256\u001b[0m             \u001b[1;32mif\u001b[0m \u001b[0mresp\u001b[0m\u001b[1;33m.\u001b[0m\u001b[0mstatus_code\u001b[0m \u001b[1;33m==\u001b[0m \u001b[1;36m401\u001b[0m\u001b[1;33m:\u001b[0m\u001b[1;33m\u001b[0m\u001b[1;33m\u001b[0m\u001b[0m\n\u001b[1;32m--> 257\u001b[1;33m                 \u001b[1;32mraise\u001b[0m \u001b[0mUnauthorized\u001b[0m\u001b[1;33m(\u001b[0m\u001b[0mresp\u001b[0m\u001b[1;33m)\u001b[0m\u001b[1;33m\u001b[0m\u001b[1;33m\u001b[0m\u001b[0m\n\u001b[0m\u001b[0;32m    258\u001b[0m             \u001b[1;32mif\u001b[0m \u001b[0mresp\u001b[0m\u001b[1;33m.\u001b[0m\u001b[0mstatus_code\u001b[0m \u001b[1;33m==\u001b[0m \u001b[1;36m403\u001b[0m\u001b[1;33m:\u001b[0m\u001b[1;33m\u001b[0m\u001b[1;33m\u001b[0m\u001b[0m\n\u001b[0;32m    259\u001b[0m                 \u001b[1;32mraise\u001b[0m \u001b[0mForbidden\u001b[0m\u001b[1;33m(\u001b[0m\u001b[0mresp\u001b[0m\u001b[1;33m)\u001b[0m\u001b[1;33m\u001b[0m\u001b[1;33m\u001b[0m\u001b[0m\n",
      "\u001b[1;31mUnauthorized\u001b[0m: 401 Unauthorized"
     ]
    }
   ],
   "source": [
    "posts = api.user_timeline(screen_name=name, count= 100, tweet_mode=\"extended\")\n"
   ]
  },
  {
   "cell_type": "code",
   "execution_count": null,
   "id": "3f1a2006",
   "metadata": {},
   "outputs": [],
   "source": [
    "df=pd.DataFrame([tweet.full_text for tweet in posts], columns=['Tweets'])\n"
   ]
  },
  {
   "cell_type": "code",
   "execution_count": 7,
   "id": "590b7f4f",
   "metadata": {},
   "outputs": [],
   "source": [
    "def cleanTxt(text):\n",
    " text = re.sub('@[A-Za-z0–9]+', '', text) #Removing @mentions\n",
    " text = re.sub('#', '', text) # Removing '#' hash tag\n",
    " text = re.sub('RT[\\s]+', '', text) # Removing RT\n",
    " text = re.sub('https?:\\/\\/\\S+', '', text) # Removing hyperlink\n",
    " return text"
   ]
  },
  {
   "cell_type": "code",
   "execution_count": 8,
   "id": "80b2880c",
   "metadata": {},
   "outputs": [
    {
     "data": {
      "text/plain": [
       "0                                     _Pete Good thread\n",
       "1                                            1m211  Yes\n",
       "2                                                      \n",
       "3      Would be a good move. Needs to include put op...\n",
       "4                           Successful Starlink deploy \n",
       "                            ...                        \n",
       "95                                         teamhumanity\n",
       "96     I wish I could help. At this point, it seems ...\n",
       "97                                  Actually, April 7th\n",
       "98    _AA_Carmack SpaceX’s goal is to make life mult...\n",
       "99                    _AA_Carmack Are they even trying?\n",
       "Name: Tweets, Length: 100, dtype: object"
      ]
     },
     "execution_count": 8,
     "metadata": {},
     "output_type": "execute_result"
    }
   ],
   "source": [
    "Tweets = df['Tweets'].apply(cleanTxt)\n",
    "Tweets"
   ]
  },
  {
   "cell_type": "code",
   "execution_count": 9,
   "id": "e79970ab",
   "metadata": {},
   "outputs": [],
   "source": [
    "def getSubjectivity(text):\n",
    "   return TextBlob(text).sentiment.subjectivity"
   ]
  },
  {
   "cell_type": "code",
   "execution_count": 10,
   "id": "a4264bf6",
   "metadata": {},
   "outputs": [],
   "source": [
    "def getPolarity(text):\n",
    "   return  TextBlob(text).sentiment.polarity\n"
   ]
  },
  {
   "cell_type": "code",
   "execution_count": 11,
   "id": "5aad204f",
   "metadata": {},
   "outputs": [],
   "source": [
    "df['Subjectivity'] = df['Tweets'].apply(getSubjectivity)\n",
    "df['Polarity'] = df['Tweets'].apply(getPolarity)\n"
   ]
  },
  {
   "cell_type": "code",
   "execution_count": 12,
   "id": "35b8d81e",
   "metadata": {},
   "outputs": [],
   "source": [
    "def getAnalysis(score):\n",
    " if score < 0:\n",
    "  return 'Negative'\n",
    " elif score == 0:\n",
    "  return 'Neutral'\n",
    " else:\n",
    "  return 'Positive'"
   ]
  },
  {
   "cell_type": "code",
   "execution_count": 13,
   "id": "f2e820ff",
   "metadata": {},
   "outputs": [],
   "source": [
    "df['Analysis'] = df['Polarity'].apply(getAnalysis)"
   ]
  },
  {
   "cell_type": "code",
   "execution_count": 14,
   "id": "35b411af",
   "metadata": {},
   "outputs": [
    {
     "data": {
      "image/png": "[encoded data removed]",
      "text/plain": [
       "<Figure size 432x288 with 1 Axes>"
      ]
     },
     "metadata": {
      "needs_background": "light"
     },
     "output_type": "display_data"
    }
   ],
   "source": [
    "df['Polarity'].value_counts().plot(kind = 'hist')\n",
    "plt.show()"
   ]
  },
  {
   "cell_type": "code",
   "execution_count": 15,
   "id": "640d9bfa",
   "metadata": {},
   "outputs": [
    {
     "data": {
      "text/plain": [
       "0                                     _Pete Good thread\n",
       "3      Would be a good move. Needs to include put op...\n",
       "4                           Successful Starlink deploy \n",
       "7       Starlink is a little patchy to Tonga right n...\n",
       "11     LIDAR is a seductive local maximum. SpaceX de...\n",
       "18                       Are you sure Signal is secure?\n",
       "21    16 Building a case is exactly what I’ve been d...\n",
       "22                                         37   Exactly\n",
       "23     1973 3 Would be cool if we are backed up somehow\n",
       "26      I’m a fan of Rust. Clearly scales well, give...\n",
       "30     Compilers can be way better too. Not enough e...\n",
       "35    _Ryan  We’re working through the general case ...\n",
       "37                         Night City has beautiful art\n",
       "38                                           Great game\n",
       "41                                Norway is awesome! 🇳🇴\n",
       "45                    We must fight for it to be better\n",
       "46      This is just peeling back the first layer of...\n",
       "47                             Why many come to America\n",
       "48                                       1973 Beautiful\n",
       "65    Entertainment is becoming a username/password/...\n",
       "66    _SPI_Airport   Sounds good, we will send one over\n",
       "67                               1  That would be great\n",
       "69      Maybe near BRO airport, since that serves bo...\n",
       "71     1  I’m pretty sure I’ve paid the most taxes o...\n",
       "73    4t4wr4ngl3r  Tesla owners in the greater Giga ...\n",
       "77                                       @_bennettm_ Ok\n",
       "79                               326  They will be fine\n",
       "83     Will visit IRS next time I’m in DC just to sa...\n",
       "84                                     _AA_Carmack True\n",
       "86              1   Depends mostly on FAA certificat...\n",
       "91                             I’m dropping a new album\n",
       "93                         We have a very talented team\n",
       "Name: Tweets, dtype: object"
      ]
     },
     "execution_count": 15,
     "metadata": {},
     "output_type": "execute_result"
    }
   ],
   "source": [
    "ptweets = df[df.Analysis == 'Positive']\n",
    "ptweets = ptweets['Tweets'].apply(cleanTxt)\n",
    "ptweets"
   ]
  },
  {
   "cell_type": "code",
   "execution_count": 16,
   "id": "64a92722",
   "metadata": {},
   "outputs": [
    {
     "data": {
      "text/plain": [
       "32.0"
      ]
     },
     "execution_count": 16,
     "metadata": {},
     "output_type": "execute_result"
    }
   ],
   "source": [
    "round( (ptweets.shape[0] / df.shape[0]) * 100 , 1)"
   ]
  },
  {
   "cell_type": "code",
   "execution_count": 17,
   "id": "abc5550d",
   "metadata": {},
   "outputs": [
    {
     "data": {
      "text/plain": [
       "12      Protagonists created over half a century ago...\n",
       "13       Signal is the least insecure messaging service\n",
       "14     Hollywood refuses to write even one story abo...\n",
       "27     While it is tempting to focus on one of those...\n",
       "29     A general solution to self-driving (essential...\n",
       "33                                               Sorry!\n",
       "39                _feed But 69% of statistics are false\n",
       "42     Small changes usually affect production for l...\n",
       "43          Sometimes 20 small changes in a single week\n",
       "44     Switching to renewables with batteries would ...\n",
       "58       It is taking longer than expected to make t...\n",
       "74      Single biggest threat to future of civilizat...\n",
       "85                 Seriously. How long must this go on?\n",
       "Name: Tweets, dtype: object"
      ]
     },
     "execution_count": 17,
     "metadata": {},
     "output_type": "execute_result"
    }
   ],
   "source": [
    "ntweets = df[df.Analysis == 'Negative']\n",
    "ntweets = ntweets['Tweets'].apply(cleanTxt)\n",
    "ntweets"
   ]
  },
  {
   "cell_type": "code",
   "execution_count": 18,
   "id": "92982ee1",
   "metadata": {},
   "outputs": [
    {
     "data": {
      "text/plain": [
       "13.0"
      ]
     },
     "execution_count": 18,
     "metadata": {},
     "output_type": "execute_result"
    }
   ],
   "source": [
    "round( (ntweets.shape[0] / df.shape[0]) * 100, 1)\n"
   ]
  },
  {
   "cell_type": "code",
   "execution_count": 19,
   "id": "bca13de9",
   "metadata": {},
   "outputs": [
    {
     "data": {
      "text/plain": [
       "1                                            1m211  Yes\n",
       "2                                                      \n",
       "5      We’ve had about 60 or so cars testing interna...\n",
       "6     : The people of Tonga were recently connected ...\n",
       "8     : Watch Falcon 9 launch 50 Starlink satellites...\n",
       "9                                                   Yes\n",
       "10                                           _Enough  🤣\n",
       "15                           Just iMessage &amp; Signal\n",
       "16                                          7imd Me too\n",
       "17                      Actual question, not rhetorical\n",
       "19                                                    🤣\n",
       "20     16 I didn’t start the fight, but I will finis...\n",
       "24                                                 Yeah\n",
       "25     3420   Yeah, definitely don’t use C unless op...\n",
       "28                                           Definitely\n",
       "31                                                    💯\n",
       "32                                                     \n",
       "34                                             _Ryan  💯\n",
       "36    _fr Yes. This is an advantage of iron cathode ...\n",
       "40                                                    🤣\n",
       "49                                      45 _    42  Yes\n",
       "50                                             V11 is 💥\n",
       "51                                              Tuesday\n",
       "52                                                 Yeah\n",
       "53                                          tau &gt; pi\n",
       "54                                                    ℏ\n",
       "55                                         _01001101 !!\n",
       "56                                                  1 !\n",
       "57                                  1973 In Earth years\n",
       "59     Instead of “research suggests”, I suggest “wa...\n",
       "60                                       600  … a river\n",
       "61                                                    😮\n",
       "62                                             _greek 🤣\n",
       "63                                                    🤣\n",
       "64    M Night should do a horror movie about this – ...\n",
       "68                                             2k  1  🤣\n",
       "70      If South Padre and/or Brownsville would like...\n",
       "72      Rather than correcting itself, the lower bir...\n",
       "75                                          : Liftoff! \n",
       "76    : Watch Falcon 9 launch 46 Starlink satellites...\n",
       "78                                                 2k 🤣\n",
       "80    1    The only reason I didn’t pay federal tax ...\n",
       "81                                                    💯\n",
       "82                             Hypocritical megadouche!\n",
       "87                                       1   Cybertruck\n",
       "88                                  1   Yes, in the air\n",
       "89                                         1   Probably\n",
       "90                              I think it will reach 2\n",
       "92                                                     \n",
       "94    : Launch and catch tower at Starbase destackin...\n",
       "95                                         teamhumanity\n",
       "96     I wish I could help. At this point, it seems ...\n",
       "97                                  Actually, April 7th\n",
       "98    _AA_Carmack SpaceX’s goal is to make life mult...\n",
       "99                    _AA_Carmack Are they even trying?\n",
       "Name: Tweets, dtype: object"
      ]
     },
     "execution_count": 19,
     "metadata": {},
     "output_type": "execute_result"
    }
   ],
   "source": [
    "Ntweets = df[df.Analysis == 'Neutral']\n",
    "Ntweets = Ntweets['Tweets'].apply(cleanTxt)\n",
    "Ntweets\n"
   ]
  },
  {
   "cell_type": "code",
   "execution_count": 20,
   "id": "d9a2f0bc",
   "metadata": {},
   "outputs": [
    {
     "data": {
      "text/plain": [
       "55.0"
      ]
     },
     "execution_count": 20,
     "metadata": {},
     "output_type": "execute_result"
    }
   ],
   "source": [
    "round( (Ntweets.shape[0] / df.shape[0]) * 100, 1)"
   ]
  },
  {
   "cell_type": "code",
   "execution_count": 21,
   "id": "0428cbdd",
   "metadata": {},
   "outputs": [
    {
     "data": {
      "text/plain": [
       "Neutral     55\n",
       "Positive    32\n",
       "Negative    13\n",
       "Name: Analysis, dtype: int64"
      ]
     },
     "execution_count": 21,
     "metadata": {},
     "output_type": "execute_result"
    }
   ],
   "source": [
    "df['Analysis'].value_counts()"
   ]
  },
  {
   "cell_type": "code",
   "execution_count": 46,
   "id": "8a9aa37b",
   "metadata": {},
   "outputs": [
    {
     "data": {
      "image/png": "[encoded data removed]",
      "text/plain": [
       "<Figure size 432x288 with 1 Axes>"
      ]
     },
     "metadata": {
      "needs_background": "light"
     },
     "output_type": "display_data"
    }
   ],
   "source": [
    "plt.title('Sentiment Analysis')\n",
    "plt.xlabel('Sentiment')\n",
    "plt.ylabel('Counts')\n",
    "df['Analysis'].value_counts().plot(kind = 'hist')\n",
    "plt.show()"
   ]
  },
  {
   "cell_type": "code",
   "execution_count": null,
   "id": "e172150e",
   "metadata": {},
   "outputs": [],
   "source": []
  },
  {
   "cell_type": "code",
   "execution_count": null,
   "id": "b466dca8",
   "metadata": {},
   "outputs": [],
   "source": []
  }
 ],
 "metadata": {
  "kernelspec": {
   "display_name": "Python 3",
   "language": "python",
   "name": "python3"
  },
  "language_info": {
   "codemirror_mode": {
    "name": "ipython",
    "version": 3
   },
   "file_extension": ".py",
   "mimetype": "text/x-python",
   "name": "python",
   "nbconvert_exporter": "python",
   "pygments_lexer": "ipython3",
   "version": "3.8.8"
  }
 },
 "nbformat": 4,
 "nbformat_minor": 5
}
